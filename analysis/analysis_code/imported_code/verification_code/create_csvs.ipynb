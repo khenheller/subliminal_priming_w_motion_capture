{
 "cells": [
  {
   "cell_type": "code",
   "execution_count": 1,
   "metadata": {},
   "outputs": [],
   "source": [
    "from pathlib import Path\n",
    "import numpy as np\n",
    "import pandas as pd\n",
    "from scipy import io as sio\n",
    "import shutil as shutil\n",
    "from simulate import fill_traj_df, fill_reach_data_df, fill_keyboard_data_df\n",
    "from tqdm.notebook import tqdm\n",
    "from matplotlib import pyplot as plt"
   ]
  },
  {
   "cell_type": "code",
   "execution_count": 2,
   "metadata": {},
   "outputs": [],
   "source": [
    "EXP_4_1_SUBS = np.hstack((47, np.arange(49,86), np.arange(87,91)))\n",
    "SUBS = EXP_4_1_SUBS # Subs used to draw simulated data from.\n",
    "SUBS_STRING = '_'.join(map(str,SUBS))\n",
    "SIM_SUBS = list(range(94, 95)) # Simulated subjects.\n",
    "SIM_TYPE = 'linear'  # 'linear'/'linear_acc'/'curved' (see elaboration in simulate.py)\n",
    "PATH_RAW_DATA = r\"./../../../../raw_data/\"\n",
    "PATH_GOOD_SUBS = r\"./../../../processed_data/good_subs_Day2_target_x_to_subs_\" + SUBS_STRING + \".mat\"\n",
    "PATH_P_MAT = PATH_RAW_DATA + \"subSUBNUMday2_p.mat\"\n",
    "PATH_START_END_POINTS = PATH_RAW_DATA + \"subSUBNUMday2_start_end_points.mat\""
   ]
  },
  {
   "cell_type": "code",
   "execution_count": 3,
   "metadata": {},
   "outputs": [],
   "source": [
    "rng = np.random.default_rng(seed=666)\n",
    "good_subs = sio.loadmat(PATH_GOOD_SUBS)['good_subs'][0]"
   ]
  },
  {
   "cell_type": "code",
   "execution_count": 4,
   "metadata": {},
   "outputs": [],
   "source": [
    "for sub_num in SIM_SUBS:\n",
    "    rand_orig_sub = rng.choice(good_subs)\n",
    "    reach_data = pd.read_csv(\n",
    "        PATH_RAW_DATA + f\"sub{rand_orig_sub}day2_reach_data.csv\"\n",
    "    )\n",
    "    reach_traj = pd.read_csv(\n",
    "        PATH_RAW_DATA + f\"sub{rand_orig_sub}day2_reach_traj.csv\"\n",
    "    )\n",
    "    keyboard_data = pd.read_csv(\n",
    "        PATH_RAW_DATA + f\"sub{rand_orig_sub}day2_keyboard_data.csv\"\n",
    "    )\n",
    "    reach_traj = fill_traj_df(reach_data, reach_traj, sub_num, SIM_TYPE, rng)\n",
    "    reach_data = fill_reach_data_df(reach_data, reach_traj, sub_num, rng)\n",
    "    keyboard_data = fill_keyboard_data_df(keyboard_data, sub_num, rng)\n",
    "    reach_data.to_csv(f\"{PATH_RAW_DATA}sub{sub_num}day2_reach_data.csv\", index=False)\n",
    "    reach_traj.to_csv(f\"{PATH_RAW_DATA}sub{sub_num}day2_reach_traj.csv\", index=False)\n",
    "    keyboard_data.to_csv(f\"{PATH_RAW_DATA}sub{sub_num}day2_keyboard_data.csv\", index=False)\n",
    "    shutil.copy(PATH_START_END_POINTS.replace(\"SUBNUM\", str(rand_orig_sub)),\n",
    "                PATH_START_END_POINTS.replace(\"SUBNUM\", str(sub_num)))\n",
    "    shutil.copy(PATH_P_MAT.replace(\"SUBNUM\", str(rand_orig_sub)),\n",
    "                PATH_P_MAT.replace(\"SUBNUM\", str(sub_num)))"
   ]
  },
  {
   "cell_type": "code",
   "execution_count": 5,
   "metadata": {},
   "outputs": [
    {
     "data": {
      "text/plain": [
       "[94]"
      ]
     },
     "execution_count": 5,
     "metadata": {},
     "output_type": "execute_result"
    }
   ],
   "source": [
    "SIM_SUBS"
   ]
  }
 ],
 "metadata": {
  "kernelspec": {
   "display_name": ".venv",
   "language": "python",
   "name": "python3"
  },
  "language_info": {
   "codemirror_mode": {
    "name": "ipython",
    "version": 3
   },
   "file_extension": ".py",
   "mimetype": "text/x-python",
   "name": "python",
   "nbconvert_exporter": "python",
   "pygments_lexer": "ipython3",
   "version": "3.10.4"
  },
  "orig_nbformat": 4
 },
 "nbformat": 4,
 "nbformat_minor": 2
}
